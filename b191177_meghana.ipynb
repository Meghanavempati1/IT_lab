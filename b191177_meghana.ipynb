{
 "cells": [
  {
   "cell_type": "code",
   "execution_count": 1,
   "id": "1ffc22a9",
   "metadata": {},
   "outputs": [
    {
     "name": "stdout",
     "output_type": "stream",
     "text": [
      "/home/cse-lab/Desktop/B191177\r\n"
     ]
    }
   ],
   "source": [
    " !pwd"
   ]
  },
  {
   "cell_type": "code",
   "execution_count": 2,
   "id": "cbfab442",
   "metadata": {},
   "outputs": [
    {
     "name": "stdout",
     "output_type": "stream",
     "text": [
      "meghana.ipynb  MELBOURNE_HOUSE_PRICES_LESS.csv\r\n"
     ]
    }
   ],
   "source": [
    "!ls"
   ]
  },
  {
   "cell_type": "code",
   "execution_count": 3,
   "id": "c812b302",
   "metadata": {},
   "outputs": [],
   "source": [
    "import pandas as pd"
   ]
  },
  {
   "cell_type": "code",
   "execution_count": 6,
   "id": "4b5356d7",
   "metadata": {},
   "outputs": [],
   "source": [
    "df = pd.read_csv(\"MELBOURNE_HOUSE_PRICES_LESS.csv\")"
   ]
  },
  {
   "cell_type": "code",
   "execution_count": 10,
   "id": "5c67fa54",
   "metadata": {},
   "outputs": [
    {
     "data": {
      "text/html": [
       "<div>\n",
       "<style scoped>\n",
       "    .dataframe tbody tr th:only-of-type {\n",
       "        vertical-align: middle;\n",
       "    }\n",
       "\n",
       "    .dataframe tbody tr th {\n",
       "        vertical-align: top;\n",
       "    }\n",
       "\n",
       "    .dataframe thead th {\n",
       "        text-align: right;\n",
       "    }\n",
       "</style>\n",
       "<table border=\"1\" class=\"dataframe\">\n",
       "  <thead>\n",
       "    <tr style=\"text-align: right;\">\n",
       "      <th></th>\n",
       "      <th>Suburb</th>\n",
       "      <th>Address</th>\n",
       "      <th>Rooms</th>\n",
       "      <th>Type</th>\n",
       "      <th>Price</th>\n",
       "      <th>Method</th>\n",
       "      <th>SellerG</th>\n",
       "      <th>Date</th>\n",
       "      <th>Postcode</th>\n",
       "      <th>Regionname</th>\n",
       "      <th>Propertycount</th>\n",
       "      <th>Distance</th>\n",
       "      <th>CouncilArea</th>\n",
       "    </tr>\n",
       "  </thead>\n",
       "  <tbody>\n",
       "    <tr>\n",
       "      <th>0</th>\n",
       "      <td>Abbotsford</td>\n",
       "      <td>49 Lithgow St</td>\n",
       "      <td>3</td>\n",
       "      <td>h</td>\n",
       "      <td>1490000.0</td>\n",
       "      <td>S</td>\n",
       "      <td>Jellis</td>\n",
       "      <td>1/04/2017</td>\n",
       "      <td>3067</td>\n",
       "      <td>Northern Metropolitan</td>\n",
       "      <td>4019</td>\n",
       "      <td>3.0</td>\n",
       "      <td>Yarra City Council</td>\n",
       "    </tr>\n",
       "    <tr>\n",
       "      <th>1</th>\n",
       "      <td>Abbotsford</td>\n",
       "      <td>59A Turner St</td>\n",
       "      <td>3</td>\n",
       "      <td>h</td>\n",
       "      <td>1220000.0</td>\n",
       "      <td>S</td>\n",
       "      <td>Marshall</td>\n",
       "      <td>1/04/2017</td>\n",
       "      <td>3067</td>\n",
       "      <td>Northern Metropolitan</td>\n",
       "      <td>4019</td>\n",
       "      <td>3.0</td>\n",
       "      <td>Yarra City Council</td>\n",
       "    </tr>\n",
       "  </tbody>\n",
       "</table>\n",
       "</div>"
      ],
      "text/plain": [
       "       Suburb        Address  Rooms Type      Price Method   SellerG  \\\n",
       "0  Abbotsford  49 Lithgow St      3    h  1490000.0      S    Jellis   \n",
       "1  Abbotsford  59A Turner St      3    h  1220000.0      S  Marshall   \n",
       "\n",
       "        Date  Postcode             Regionname  Propertycount  Distance  \\\n",
       "0  1/04/2017      3067  Northern Metropolitan           4019       3.0   \n",
       "1  1/04/2017      3067  Northern Metropolitan           4019       3.0   \n",
       "\n",
       "          CouncilArea  \n",
       "0  Yarra City Council  \n",
       "1  Yarra City Council  "
      ]
     },
     "execution_count": 10,
     "metadata": {},
     "output_type": "execute_result"
    }
   ],
   "source": [
    "df.head(2)\n"
   ]
  },
  {
   "cell_type": "code",
   "execution_count": 11,
   "id": "f1bd5963",
   "metadata": {},
   "outputs": [
    {
     "data": {
      "text/html": [
       "<div>\n",
       "<style scoped>\n",
       "    .dataframe tbody tr th:only-of-type {\n",
       "        vertical-align: middle;\n",
       "    }\n",
       "\n",
       "    .dataframe tbody tr th {\n",
       "        vertical-align: top;\n",
       "    }\n",
       "\n",
       "    .dataframe thead th {\n",
       "        text-align: right;\n",
       "    }\n",
       "</style>\n",
       "<table border=\"1\" class=\"dataframe\">\n",
       "  <thead>\n",
       "    <tr style=\"text-align: right;\">\n",
       "      <th></th>\n",
       "      <th>Suburb</th>\n",
       "      <th>Address</th>\n",
       "      <th>Rooms</th>\n",
       "      <th>Type</th>\n",
       "      <th>Price</th>\n",
       "      <th>Method</th>\n",
       "      <th>SellerG</th>\n",
       "      <th>Date</th>\n",
       "      <th>Postcode</th>\n",
       "      <th>Regionname</th>\n",
       "      <th>Propertycount</th>\n",
       "      <th>Distance</th>\n",
       "      <th>CouncilArea</th>\n",
       "    </tr>\n",
       "  </thead>\n",
       "  <tbody>\n",
       "    <tr>\n",
       "      <th>63020</th>\n",
       "      <td>Roxburgh Park</td>\n",
       "      <td>5 Parkinson Wy</td>\n",
       "      <td>3</td>\n",
       "      <td>h</td>\n",
       "      <td>545000.0</td>\n",
       "      <td>S</td>\n",
       "      <td>Raine</td>\n",
       "      <td>31/03/2018</td>\n",
       "      <td>3064</td>\n",
       "      <td>Northern Metropolitan</td>\n",
       "      <td>5833</td>\n",
       "      <td>20.6</td>\n",
       "      <td>Hume City Council</td>\n",
       "    </tr>\n",
       "    <tr>\n",
       "      <th>63021</th>\n",
       "      <td>Thomastown</td>\n",
       "      <td>3/1 Travers St</td>\n",
       "      <td>3</td>\n",
       "      <td>u</td>\n",
       "      <td>NaN</td>\n",
       "      <td>PI</td>\n",
       "      <td>Barry</td>\n",
       "      <td>31/03/2018</td>\n",
       "      <td>3074</td>\n",
       "      <td>Northern Metropolitan</td>\n",
       "      <td>7955</td>\n",
       "      <td>15.3</td>\n",
       "      <td>Whittlesea City Council</td>\n",
       "    </tr>\n",
       "    <tr>\n",
       "      <th>63022</th>\n",
       "      <td>Williams Landing</td>\n",
       "      <td>1 Diadem Wy</td>\n",
       "      <td>4</td>\n",
       "      <td>h</td>\n",
       "      <td>NaN</td>\n",
       "      <td>SP</td>\n",
       "      <td>Aussie</td>\n",
       "      <td>31/03/2018</td>\n",
       "      <td>3027</td>\n",
       "      <td>Western Metropolitan</td>\n",
       "      <td>1999</td>\n",
       "      <td>17.6</td>\n",
       "      <td>Wyndham City Council</td>\n",
       "    </tr>\n",
       "  </tbody>\n",
       "</table>\n",
       "</div>"
      ],
      "text/plain": [
       "                 Suburb         Address  Rooms Type     Price Method SellerG  \\\n",
       "63020     Roxburgh Park  5 Parkinson Wy      3    h  545000.0      S   Raine   \n",
       "63021        Thomastown  3/1 Travers St      3    u       NaN     PI   Barry   \n",
       "63022  Williams Landing     1 Diadem Wy      4    h       NaN     SP  Aussie   \n",
       "\n",
       "             Date  Postcode             Regionname  Propertycount  Distance  \\\n",
       "63020  31/03/2018      3064  Northern Metropolitan           5833      20.6   \n",
       "63021  31/03/2018      3074  Northern Metropolitan           7955      15.3   \n",
       "63022  31/03/2018      3027   Western Metropolitan           1999      17.6   \n",
       "\n",
       "                   CouncilArea  \n",
       "63020        Hume City Council  \n",
       "63021  Whittlesea City Council  \n",
       "63022     Wyndham City Council  "
      ]
     },
     "execution_count": 11,
     "metadata": {},
     "output_type": "execute_result"
    }
   ],
   "source": [
    "df.tail(3)"
   ]
  },
  {
   "cell_type": "code",
   "execution_count": 12,
   "id": "c0d62c75",
   "metadata": {},
   "outputs": [
    {
     "name": "stdout",
     "output_type": "stream",
     "text": [
      "(63023, 13)\n"
     ]
    }
   ],
   "source": [
    "#no of rows and columns\n",
    "print(df.shape)"
   ]
  },
  {
   "cell_type": "code",
   "execution_count": 13,
   "id": "205e6882",
   "metadata": {},
   "outputs": [],
   "source": [
    "df=df.dropna()"
   ]
  },
  {
   "cell_type": "code",
   "execution_count": 37,
   "id": "0597359f",
   "metadata": {},
   "outputs": [],
   "source": [
    "rooms=df[\"Regionname\"]"
   ]
  },
  {
   "cell_type": "code",
   "execution_count": 38,
   "id": "30c1db2d",
   "metadata": {},
   "outputs": [],
   "source": [
    "price=list(df[\"Price\"])"
   ]
  },
  {
   "cell_type": "code",
   "execution_count": 39,
   "id": "7952c6e0",
   "metadata": {},
   "outputs": [],
   "source": [
    "import matplotlib.pyplot as plt"
   ]
  },
  {
   "cell_type": "code",
   "execution_count": 40,
   "id": "ce64c360",
   "metadata": {},
   "outputs": [
    {
     "data": {
      "image/png": "[encoded data removed]",
      "text/plain": [
       "<Figure size 432x288 with 1 Axes>"
      ]
     },
     "metadata": {
      "needs_background": "light"
     },
     "output_type": "display_data"
    },
    {
     "data": {
      "text/plain": [
       "Text(0.5, 1.0, 'histogram of price')"
      ]
     },
     "execution_count": 40,
     "metadata": {},
     "output_type": "execute_result"
    },
    {
     "data": {
      "image/png": "[encoded data removed]",
      "text/plain": [
       "<Figure size 432x288 with 1 Axes>"
      ]
     },
     "metadata": {
      "needs_background": "light"
     },
     "output_type": "display_data"
    }
   ],
   "source": [
    "fig = plt.figure()\n",
    "plt.hist(x = price,edgecolor=\"black\",bins=40)\n",
    "plt.xlabel(\"price range\")\n",
    "plt.ylabel(\"number of houses\")\n",
    "plt.show()\n",
    "plt.title(\"histogram of price\")"
   ]
  },
  {
   "cell_type": "code",
   "execution_count": 41,
   "id": "4584a76b",
   "metadata": {},
   "outputs": [],
   "source": [
    "rooms_count = df[\"Regionname\"].value_counts()\n",
    "rooms_count=dict(rooms_count)"
   ]
  },
  {
   "cell_type": "code",
   "execution_count": 42,
   "id": "dbf6b444",
   "metadata": {},
   "outputs": [],
   "source": [
    "a= rooms_count.keys()\n",
    "b= rooms_count.values()"
   ]
  },
  {
   "cell_type": "code",
   "execution_count": 56,
   "id": "ddaa5908",
   "metadata": {},
   "outputs": [
    {
     "data": {
      "image/png": "[encoded data removed]",
      "text/plain": [
       "<Figure size 720x720 with 1 Axes>"
      ]
     },
     "metadata": {},
     "output_type": "display_data"
    }
   ],
   "source": [
    "#pie\n",
    "fig=plt.figure(figsize=(10,10))\n",
    "\n",
    "\n",
    "plt.pie(x= b,labels= a)\n",
    "plt.legend()\n",
    "\n",
    "plt.show()"
   ]
  },
  {
   "cell_type": "code",
   "execution_count": 58,
   "id": "03bcef13",
   "metadata": {},
   "outputs": [
    {
     "name": "stdout",
     "output_type": "stream",
     "text": [
      "{'h': 34161, 'u': 9292, 't': 4980}\n"
     ]
    }
   ],
   "source": [
    "#barplor\n",
    "#type\n",
    "type_count=df[\"Type\"].value_counts()\n",
    "type_count=dict(type_count)\n",
    "print(type_count)\n"
   ]
  },
  {
   "cell_type": "code",
   "execution_count": 59,
   "id": "392718c6",
   "metadata": {},
   "outputs": [],
   "source": [
    "type_count=df['Type'].value_counts()\n",
    "type_count=dict(type_count)"
   ]
  },
  {
   "cell_type": "code",
   "execution_count": 60,
   "id": "e66acf6e",
   "metadata": {},
   "outputs": [],
   "source": [
    "a = list(type_count.keys())\n",
    "b=list(type_count.values())\n"
   ]
  },
  {
   "cell_type": "code",
   "execution_count": 63,
   "id": "c1e37fb4",
   "metadata": {},
   "outputs": [
    {
     "data": {
      "image/png": "[encoded data removed]",
      "text/plain": [
       "<Figure size 216x216 with 1 Axes>"
      ]
     },
     "metadata": {
      "needs_background": "light"
     },
     "output_type": "display_data"
    }
   ],
   "source": [
    "#histogram\n",
    "fig =plt.figure(figsize=(3,3\n",
    "                        \n",
    "                        ))\n",
    "plt.bar(x=a, height = b)\n",
    "plt.show()\n"
   ]
  },
  {
   "cell_type": "code",
   "execution_count": 67,
   "id": "f050fa82",
   "metadata": {},
   "outputs": [],
   "source": [
    "#scatter plot\n",
    "price =df[\"Price\"]\n",
    "price=list(price)\n",
    "distance=df['Distance']\n",
    "distance=list(distance)"
   ]
  },
  {
   "cell_type": "code",
   "execution_count": null,
   "id": "13b529cc",
   "metadata": {},
   "outputs": [],
   "source": [
    "fig=plt.figure(figsize=(700,700))\n",
    "#line plot\n",
    "plt.plot(distance,price,linestyle=\"\",\n",
    "        marker=\"o\",\n",
    "        markerfacecolor=\"red\",\n",
    "        markeredgecolor=\"blue\")\n",
    "plt.plot(distance,price,linestyle='-',marker=\"o\")\n",
    "plt.xlabel('Distance')\n",
    "plt.ylabel('price')\n",
    "plt.show()"
   ]
  },
  {
   "cell_type": "code",
   "execution_count": null,
   "id": "12838fc3",
   "metadata": {},
   "outputs": [],
   "source": []
  }
 ],
 "metadata": {
  "kernelspec": {
   "display_name": "Python 3 (ipykernel)",
   "language": "python",
   "name": "python3"
  },
  "language_info": {
   "codemirror_mode": {
    "name": "ipython",
    "version": 3
   },
   "file_extension": ".py",
   "mimetype": "text/x-python",
   "name": "python",
   "nbconvert_exporter": "python",
   "pygments_lexer": "ipython3",
   "version": "3.9.12"
  }
 },
 "nbformat": 4,
 "nbformat_minor": 5
}
